{
 "cells": [
  {
   "cell_type": "markdown",
   "id": "9233398e-855d-4138-b806-d6b11f5e1126",
   "metadata": {},
   "source": [
    "Johann Raymundo"
   ]
  },
  {
   "cell_type": "markdown",
   "id": "4f966cf5-53e4-4c15-b2ae-2da2b65db121",
   "metadata": {},
   "source": [
    "2ECE-B"
   ]
  },
  {
   "cell_type": "markdown",
   "id": "e2c3967e-d39f-41aa-9b9c-eeaf4c814d98",
   "metadata": {},
   "source": [
    "Programming Assignment 2"
   ]
  },
  {
   "cell_type": "code",
   "execution_count": 6,
   "id": "2e7ea544-a9b1-4a62-87d0-a0eb65d72011",
   "metadata": {},
   "outputs": [],
   "source": [
    " import numpy as np"
   ]
  },
  {
   "cell_type": "markdown",
   "id": "3959db9d-ffc9-4118-ba10-f523b5878a16",
   "metadata": {},
   "source": [
    "# NORMALIZATION PROBLEM"
   ]
  },
  {
   "cell_type": "code",
   "execution_count": 46,
   "id": "303c2b1d-dc3d-4c04-844c-e35218beb61b",
   "metadata": {},
   "outputs": [],
   "source": [
    "#create a random 5x5 ndarray and store it to variable x\n",
    "x = np.random.random((5,5))\n",
    "x\n",
    "#normalize x\n",
    "x_normalized = (x - x.mean())/x.std()\n",
    "x_normalized\n",
    "#save normalized ndarray as  x_normalized.npy\n",
    "np.save('x_normalized.npy', x_normalized)"
   ]
  },
  {
   "cell_type": "markdown",
   "id": "4d8a17d0-5c4c-4e57-892f-6eee2137f185",
   "metadata": {},
   "source": [
    "# DIVISIBLE BY 3 PROBLEM"
   ]
  },
  {
   "cell_type": "code",
   "execution_count": 55,
   "id": "06bbb6c5-51c1-48e1-aa1a-101122d76e6d",
   "metadata": {},
   "outputs": [],
   "source": [
    "# create the 10x10 ndarray\n",
    "x = np.arange(1, 101)**2\n",
    "x = x.reshape((10, 10))\n",
    "# find the elements divisible by 3\n",
    "div_by_3 = x[x % 3 == 0]\n",
    "x\n",
    "#save the result as div_by_3.npy\n",
    "np.save('div_by_3.npy', x)"
   ]
  }
 ],
 "metadata": {
  "kernelspec": {
   "display_name": "Python 3 (ipykernel)",
   "language": "python",
   "name": "python3"
  },
  "language_info": {
   "codemirror_mode": {
    "name": "ipython",
    "version": 3
   },
   "file_extension": ".py",
   "mimetype": "text/x-python",
   "name": "python",
   "nbconvert_exporter": "python",
   "pygments_lexer": "ipython3",
   "version": "3.12.4"
  }
 },
 "nbformat": 4,
 "nbformat_minor": 5
}
